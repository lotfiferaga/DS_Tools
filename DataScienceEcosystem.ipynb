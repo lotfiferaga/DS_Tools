{
 "cells": [
  {
   "cell_type": "markdown",
   "id": "b08106ac-7d9b-4e85-8b26-58ac8a56485c",
   "metadata": {},
   "source": [
    "# Data Science Tools and Ecosystem "
   ]
  },
  {
   "cell_type": "markdown",
   "id": "8542c440-f49a-454a-939d-fa483c2aa5e8",
   "metadata": {},
   "source": [
    "In this notebook, Data Science Tools and Ecosystem are summarized."
   ]
  },
  {
   "cell_type": "markdown",
   "id": "077abcb4-82ea-4141-995c-9c4648e2209b",
   "metadata": {},
   "source": [
    "Some of the popular languages that Data Scientists use are: \n",
    "1. Python\n",
    "2. R\n",
    "3. Ruby"
   ]
  },
  {
   "cell_type": "markdown",
   "id": "d0641f16-796c-4a70-b59e-9339b09b9b88",
   "metadata": {},
   "source": [
    "Some of the commonly used libraries used by Data Scientists include:\n",
    "\n",
    "1. Pytorch\n",
    "2. Tensorflow\n",
    "3. Seaborn"
   ]
  },
  {
   "cell_type": "markdown",
   "id": "c664b903-261c-4653-bf86-3e9a6dfc38fe",
   "metadata": {},
   "source": [
    "| Data Science Tools     |\n",
    "|------------------------|\n",
    "| Jupyter Notebooks      |\n",
    "| RStudio                |\n",
    "| VS Code with Python    |\n"
   ]
  },
  {
   "cell_type": "markdown",
   "id": "913b3be6-5965-4b8a-8b20-244a0f9a227c",
   "metadata": {},
   "source": [
    "### Examples of Evaluating Arithmetic Expressions in Python\n",
    "\n",
    "Below are a few examples of evaluating arithmetic expressions in Python:\n",
    "\n",
    "1. Addition:\n",
    "\n"
   ]
  },
  {
   "cell_type": "code",
   "execution_count": 1,
   "id": "d33486f8-d030-4f4b-aeb0-21d2b4566f33",
   "metadata": {
    "tags": []
   },
   "outputs": [
    {
     "name": "stdout",
     "output_type": "stream",
     "text": [
      "8\n"
     ]
    }
   ],
   "source": [
    "   result = 5 + 3\n",
    "   print(result)  \n",
    "   # Output: 8\n",
    " "
   ]
  },
  {
   "cell_type": "code",
   "execution_count": 2,
   "id": "7286f707-647f-4824-952e-96055a9b84c4",
   "metadata": {
    "tags": []
   },
   "outputs": [
    {
     "name": "stdout",
     "output_type": "stream",
     "text": [
      "17\n"
     ]
    }
   ],
   "source": [
    "# This is a simple arithmetic expression to multiply then add integers.\n",
    "result = (3 * 4) + 5\n",
    "print(result)"
   ]
  },
  {
   "cell_type": "code",
   "execution_count": 3,
   "id": "fd8633b4-29a1-4a12-b446-e07b7163fad5",
   "metadata": {
    "tags": []
   },
   "outputs": [
    {
     "name": "stdout",
     "output_type": "stream",
     "text": [
      "3.3333333333333335\n"
     ]
    }
   ],
   "source": [
    "# This will convert 200 minutes to hours by dividing by 60.\n",
    "minutes = 200\n",
    "hours = minutes / 60\n",
    "print(hours)"
   ]
  },
  {
   "cell_type": "markdown",
   "id": "a1fdc266-c2af-4ce0-9f8a-48fa5145590a",
   "metadata": {},
   "source": [
    "**Objectives:**\n",
    "\n",
    "- Understand arithmetic expressions and operations in Python.\n",
    "- Explore basic Python code cells for performing mathematical operations.\n",
    "- Familiarize yourself with converting units, such as minutes to hours.\n",
    "- Learn to document code using comments in Python.\n",
    "- Gain an introduction to data science tools and environments.\n"
   ]
  },
  {
   "cell_type": "markdown",
   "id": "0b48a21c-b743-4d3e-aef6-d853de0988e3",
   "metadata": {},
   "source": [
    "## Author\n",
    "\n",
    "FERAGA Lotfi\n"
   ]
  }
 ],
 "metadata": {
  "kernelspec": {
   "display_name": "Python",
   "language": "python",
   "name": "conda-env-python-py"
  },
  "language_info": {
   "codemirror_mode": {
    "name": "ipython",
    "version": 3
   },
   "file_extension": ".py",
   "mimetype": "text/x-python",
   "name": "python",
   "nbconvert_exporter": "python",
   "pygments_lexer": "ipython3",
   "version": "3.7.12"
  }
 },
 "nbformat": 4,
 "nbformat_minor": 5
}
